{
 "cells": [
  {
   "cell_type": "code",
   "execution_count": 10,
   "id": "a7c10811",
   "metadata": {},
   "outputs": [],
   "source": [
    "import pandas as pd"
   ]
  },
  {
   "cell_type": "code",
   "execution_count": 25,
   "id": "2af096f6",
   "metadata": {},
   "outputs": [],
   "source": [
    "h_df = pd.read_excel(r\"C:\\Users\\Pranjal Singh\\Downloads\\Combined.xlsx\", sheet_name='Pasco')\n",
    "\n",
    "#I tried importing the files using just the name and extension but it was not allowing me to do so hece I fetched the files using their Location address."
   ]
  },
  {
   "cell_type": "code",
   "execution_count": 26,
   "id": "d4d41332",
   "metadata": {},
   "outputs": [
    {
     "data": {
      "text/html": [
       "<div>\n",
       "<style scoped>\n",
       "    .dataframe tbody tr th:only-of-type {\n",
       "        vertical-align: middle;\n",
       "    }\n",
       "\n",
       "    .dataframe tbody tr th {\n",
       "        vertical-align: top;\n",
       "    }\n",
       "\n",
       "    .dataframe thead th {\n",
       "        text-align: right;\n",
       "    }\n",
       "</style>\n",
       "<table border=\"1\" class=\"dataframe\">\n",
       "  <thead>\n",
       "    <tr style=\"text-align: right;\">\n",
       "      <th></th>\n",
       "      <th>Unnamed: 0</th>\n",
       "      <th>Count of ObjectId (Pasco.csv)</th>\n",
       "      <th>Moving Average Pasco along Day of EventDate (Pasco.csv)</th>\n",
       "    </tr>\n",
       "  </thead>\n",
       "  <tbody>\n",
       "    <tr>\n",
       "      <th>0</th>\n",
       "      <td>2020-03-01</td>\n",
       "      <td>2</td>\n",
       "      <td>2.0</td>\n",
       "    </tr>\n",
       "    <tr>\n",
       "      <th>1</th>\n",
       "      <td>2020-03-02</td>\n",
       "      <td>1</td>\n",
       "      <td>1.5</td>\n",
       "    </tr>\n",
       "    <tr>\n",
       "      <th>2</th>\n",
       "      <td>2020-03-07</td>\n",
       "      <td>2</td>\n",
       "      <td>1.7</td>\n",
       "    </tr>\n",
       "    <tr>\n",
       "      <th>3</th>\n",
       "      <td>2020-03-08</td>\n",
       "      <td>3</td>\n",
       "      <td>2.0</td>\n",
       "    </tr>\n",
       "    <tr>\n",
       "      <th>4</th>\n",
       "      <td>2020-03-09</td>\n",
       "      <td>5</td>\n",
       "      <td>2.6</td>\n",
       "    </tr>\n",
       "    <tr>\n",
       "      <th>...</th>\n",
       "      <td>...</td>\n",
       "      <td>...</td>\n",
       "      <td>...</td>\n",
       "    </tr>\n",
       "    <tr>\n",
       "      <th>362</th>\n",
       "      <td>2021-03-02</td>\n",
       "      <td>60</td>\n",
       "      <td>88.8</td>\n",
       "    </tr>\n",
       "    <tr>\n",
       "      <th>363</th>\n",
       "      <td>2021-03-03</td>\n",
       "      <td>64</td>\n",
       "      <td>81.8</td>\n",
       "    </tr>\n",
       "    <tr>\n",
       "      <th>364</th>\n",
       "      <td>2021-03-04</td>\n",
       "      <td>47</td>\n",
       "      <td>72.0</td>\n",
       "    </tr>\n",
       "    <tr>\n",
       "      <th>365</th>\n",
       "      <td>2021-03-05</td>\n",
       "      <td>29</td>\n",
       "      <td>65.3</td>\n",
       "    </tr>\n",
       "    <tr>\n",
       "      <th>366</th>\n",
       "      <td>2021-03-06</td>\n",
       "      <td>64</td>\n",
       "      <td>61.3</td>\n",
       "    </tr>\n",
       "  </tbody>\n",
       "</table>\n",
       "<p>367 rows × 3 columns</p>\n",
       "</div>"
      ],
      "text/plain": [
       "    Unnamed: 0  Count of ObjectId (Pasco.csv)  \\\n",
       "0   2020-03-01                              2   \n",
       "1   2020-03-02                              1   \n",
       "2   2020-03-07                              2   \n",
       "3   2020-03-08                              3   \n",
       "4   2020-03-09                              5   \n",
       "..         ...                            ...   \n",
       "362 2021-03-02                             60   \n",
       "363 2021-03-03                             64   \n",
       "364 2021-03-04                             47   \n",
       "365 2021-03-05                             29   \n",
       "366 2021-03-06                             64   \n",
       "\n",
       "     Moving Average Pasco along Day of EventDate (Pasco.csv)  \n",
       "0                                                  2.0        \n",
       "1                                                  1.5        \n",
       "2                                                  1.7        \n",
       "3                                                  2.0        \n",
       "4                                                  2.6        \n",
       "..                                                 ...        \n",
       "362                                               88.8        \n",
       "363                                               81.8        \n",
       "364                                               72.0        \n",
       "365                                               65.3        \n",
       "366                                               61.3        \n",
       "\n",
       "[367 rows x 3 columns]"
      ]
     },
     "execution_count": 26,
     "metadata": {},
     "output_type": "execute_result"
    }
   ],
   "source": [
    "h_df"
   ]
  },
  {
   "cell_type": "code",
   "execution_count": 27,
   "id": "afe16ca3",
   "metadata": {},
   "outputs": [],
   "source": [
    "h_df.columns = ['Date', 'Daily Number', 'Moving Average']"
   ]
  },
  {
   "cell_type": "code",
   "execution_count": 28,
   "id": "9b3d684c",
   "metadata": {},
   "outputs": [
    {
     "data": {
      "text/plain": [
       "<AxesSubplot:xlabel='Date'>"
      ]
     },
     "execution_count": 28,
     "metadata": {},
     "output_type": "execute_result"
    },
    {
     "data": {
      "image/png": "[encoded data removed]",
      "text/plain": [
       "<Figure size 432x288 with 1 Axes>"
      ]
     },
     "metadata": {
      "needs_background": "light"
     },
     "output_type": "display_data"
    }
   ],
   "source": [
    "h_df.plot('Date', ['Daily Number', 'Moving Average']) "
   ]
  }
 ],
 "metadata": {
  "kernelspec": {
   "display_name": "Python 3 (ipykernel)",
   "language": "python",
   "name": "python3"
  },
  "language_info": {
   "codemirror_mode": {
    "name": "ipython",
    "version": 3
   },
   "file_extension": ".py",
   "mimetype": "text/x-python",
   "name": "python",
   "nbconvert_exporter": "python",
   "pygments_lexer": "ipython3",
   "version": "3.9.7"
  }
 },
 "nbformat": 4,
 "nbformat_minor": 5
}
