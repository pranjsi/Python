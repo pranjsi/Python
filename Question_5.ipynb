{
 "cells": [
  {
   "cell_type": "code",
   "execution_count": 2,
   "id": "f744f9e3",
   "metadata": {},
   "outputs": [],
   "source": [
    "import pandas as pd"
   ]
  },
  {
   "cell_type": "code",
   "execution_count": 3,
   "id": "f9375045",
   "metadata": {},
   "outputs": [],
   "source": [
    "#Data Preparation\n",
    "df_2020 = pd.read_csv(r\"C:\\Users\\Pranjal Singh\\Downloads\\2020 Cases Only.csv\", low_memory=False)\n",
    "df_2021 = pd.read_csv(r\"C:\\Users\\Pranjal Singh\\Downloads\\2021 Cases Only.csv\", low_memory = False)\n",
    "\n",
    "#I tried importing the files using just the name and extension but it was not allowing me to do so hece I fetched the files using their Location address."
   ]
  },
  {
   "cell_type": "code",
   "execution_count": 4,
   "id": "42825b9b",
   "metadata": {},
   "outputs": [],
   "source": [
    "df_all = df_2020.append(df_2021)"
   ]
  },
  {
   "cell_type": "code",
   "execution_count": 5,
   "id": "7cc3def5",
   "metadata": {},
   "outputs": [],
   "source": [
    "c_all = df_all.groupby(['EventDate']).count() "
   ]
  },
  {
   "cell_type": "code",
   "execution_count": 6,
   "id": "11e75722",
   "metadata": {},
   "outputs": [
    {
     "name": "stdout",
     "output_type": "stream",
     "text": [
      "<bound method NDFrame.head of            OBJECTID  County    Age  Age_group  Gender  Jurisdicti  Travel_rel  \\\n",
      "EventDate                                                                       \n",
      "1/1/2020          0      21     21         21      21          21          21   \n",
      "1/1/2021          0   13720  13719      13720   13720       13720       13720   \n",
      "1/10/2020         0       2      2          2       2           2           2   \n",
      "1/10/2021         0   11694  11693      11694   11694       11694       11694   \n",
      "1/11/2021         0   14249  14245      14249   14249       14249       14249   \n",
      "...             ...     ...    ...        ...     ...         ...         ...   \n",
      "9/5/2020          0    2545   2544       2545    2545        2545        2545   \n",
      "9/6/2020          0    2217   2217       2217    2217        2217        2217   \n",
      "9/7/2020          0    2478   2477       2478    2478        2478        2478   \n",
      "9/8/2020          0    2699   2698       2699    2699        2699        2699   \n",
      "9/9/2020          0    2491   2489       2491    2491        2491        2491   \n",
      "\n",
      "           Origin  EDvisit  Hospitaliz  Died  Case_  Contact  Case1  \\\n",
      "EventDate                                                             \n",
      "1/1/2020        3       20          21     0     21       20     21   \n",
      "1/1/2021      482    13331       13717   230  13720    10611  13720   \n",
      "1/10/2020       0        2           2     0      2        2      2   \n",
      "1/10/2021     266    11415       11691   156  11694     8190  11694   \n",
      "1/11/2021     297    13636       14241   216  14249    10151  14249   \n",
      "...           ...      ...         ...   ...    ...      ...    ...   \n",
      "9/5/2020       62     2480        2545    49   2545     2196   2545   \n",
      "9/6/2020       54     2161        2217    49   2217     1987   2217   \n",
      "9/7/2020       76     2441        2478    56   2478     2240   2478   \n",
      "9/8/2020       84     2625        2699    63   2699     2486   2699   \n",
      "9/9/2020       69     2391        2491    57   2491     2346   2491   \n",
      "\n",
      "           ChartDate  ObjectId2  ObjectId  \n",
      "EventDate                                  \n",
      "1/1/2020          21         21         0  \n",
      "1/1/2021       13720          0     13720  \n",
      "1/10/2020          2          2         0  \n",
      "1/10/2021      11694          0     11694  \n",
      "1/11/2021      14249          0     14249  \n",
      "...              ...        ...       ...  \n",
      "9/5/2020        2545       2545         0  \n",
      "9/6/2020        2217       2217         0  \n",
      "9/7/2020        2478       2478         0  \n",
      "9/8/2020        2699       2699         0  \n",
      "9/9/2020        2491       2491         0  \n",
      "\n",
      "[508 rows x 17 columns]>\n"
     ]
    }
   ],
   "source": [
    "print(c_all.head)\n",
    "\n",
    "#We can witness the issue with dates as the dates and the data as well is not sorted in ascending order.\n",
    "# The data has been sorted bu the first character of the date (Day) which is incorrect."
   ]
  },
  {
   "cell_type": "code",
   "execution_count": 7,
   "id": "656600d9",
   "metadata": {},
   "outputs": [
    {
     "data": {
      "text/plain": [
       "str"
      ]
     },
     "execution_count": 7,
     "metadata": {},
     "output_type": "execute_result"
    }
   ],
   "source": [
    "type(c_all.index[0])"
   ]
  },
  {
   "cell_type": "code",
   "execution_count": 9,
   "id": "febb9aba",
   "metadata": {},
   "outputs": [],
   "source": [
    "from datetime import datetime"
   ]
  },
  {
   "cell_type": "code",
   "execution_count": 10,
   "id": "a5c1ab84",
   "metadata": {},
   "outputs": [],
   "source": [
    "c_all.index = pd.to_datetime(c_all.index, format=\"%m/%d/%Y\")"
   ]
  },
  {
   "cell_type": "code",
   "execution_count": 11,
   "id": "c9b138b7",
   "metadata": {},
   "outputs": [],
   "source": [
    "c_sorted = c_all.sort_index(axis='index', ascending=True)"
   ]
  },
  {
   "cell_type": "code",
   "execution_count": 12,
   "id": "0df8c306",
   "metadata": {},
   "outputs": [
    {
     "data": {
      "text/plain": [
       "<bound method NDFrame.head of             OBJECTID  County   Age  Age_group  Gender  Jurisdicti  Travel_rel  \\\n",
       "EventDate                                                                       \n",
       "2020-01-01         0      21    21         21      21          21          21   \n",
       "2020-01-02         0       4     4          4       4           4           4   \n",
       "2020-01-03         0       1     1          1       1           1           1   \n",
       "2020-01-04         0       8     8          8       8           8           8   \n",
       "2020-01-05         0       1     1          1       1           1           1   \n",
       "...              ...     ...   ...        ...     ...         ...         ...   \n",
       "2021-05-20         0    1936  1934       1936    1936        1936        1936   \n",
       "2021-05-21         0    1831  1828       1831    1831        1831        1831   \n",
       "2021-05-22         0    1286  1285       1286    1286        1286        1286   \n",
       "2021-05-23         0    1026  1026       1026    1026        1026        1026   \n",
       "2021-05-24         0    1377  1377       1377    1377        1377        1377   \n",
       "\n",
       "            Origin  EDvisit  Hospitaliz  Died  Case_  Contact  Case1  \\\n",
       "EventDate                                                              \n",
       "2020-01-01       3       20          21     0     21       20     21   \n",
       "2020-01-02       0        4           4     1      4        4      4   \n",
       "2020-01-03       0        1           1     0      1        1      1   \n",
       "2020-01-04       2        8           8     0      8        8      8   \n",
       "2020-01-05       0        1           1     0      1        1      1   \n",
       "...            ...      ...         ...   ...    ...      ...    ...   \n",
       "2021-05-20      31     1871        1907     1   1936     1484   1936   \n",
       "2021-05-21      36     1743        1783     1   1831     1239   1831   \n",
       "2021-05-22      16     1244        1261     2   1286      791   1286   \n",
       "2021-05-23       8      994        1008     1   1026      567   1026   \n",
       "2021-05-24       4     1292        1320     0   1377      300   1377   \n",
       "\n",
       "            ChartDate  ObjectId2  ObjectId  \n",
       "EventDate                                   \n",
       "2020-01-01         21         21         0  \n",
       "2020-01-02          4          4         0  \n",
       "2020-01-03          1          1         0  \n",
       "2020-01-04          8          8         0  \n",
       "2020-01-05          1          1         0  \n",
       "...               ...        ...       ...  \n",
       "2021-05-20       1936          0      1936  \n",
       "2021-05-21       1831          0      1831  \n",
       "2021-05-22       1286          0      1286  \n",
       "2021-05-23       1026          0      1026  \n",
       "2021-05-24       1377          0      1377  \n",
       "\n",
       "[508 rows x 17 columns]>"
      ]
     },
     "execution_count": 12,
     "metadata": {},
     "output_type": "execute_result"
    }
   ],
   "source": [
    "# Sorted data using the year and correct ascending order of date format.\n",
    "c_sorted.head"
   ]
  }
 ],
 "metadata": {
  "kernelspec": {
   "display_name": "Python 3 (ipykernel)",
   "language": "python",
   "name": "python3"
  },
  "language_info": {
   "codemirror_mode": {
    "name": "ipython",
    "version": 3
   },
   "file_extension": ".py",
   "mimetype": "text/x-python",
   "name": "python",
   "nbconvert_exporter": "python",
   "pygments_lexer": "ipython3",
   "version": "3.9.7"
  }
 },
 "nbformat": 4,
 "nbformat_minor": 5
}
